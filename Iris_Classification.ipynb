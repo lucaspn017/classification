{
  "nbformat": 4,
  "nbformat_minor": 0,
  "metadata": {
    "colab": {
      "provenance": [],
      "mount_file_id": "1YQP2-qudQWBpOzv-fp_iYqg-Tou72UAl",
      "authorship_tag": "ABX9TyOSr5WNMSrfvLUKCR8SW0dL",
      "include_colab_link": true
    },
    "kernelspec": {
      "name": "python3",
      "display_name": "Python 3"
    },
    "language_info": {
      "name": "python"
    }
  },
  "cells": [
    {
      "cell_type": "markdown",
      "metadata": {
        "id": "view-in-github",
        "colab_type": "text"
      },
      "source": [
        "<a href=\"https://colab.research.google.com/github/lucaspn017/classification/blob/main/Iris_Classification.ipynb\" target=\"_parent\"><img src=\"https://colab.research.google.com/assets/colab-badge.svg\" alt=\"Open In Colab\"/></a>"
      ]
    },
    {
      "cell_type": "code",
      "source": [
        "import pandas as pd\n",
        "import matplotlib.pyplot as plt\n",
        "import numpy as np\n",
        "import plotly.express as px\n",
        "from sklearn.model_selection import train_test_split\n",
        "from sklearn.metrics import accuracy_score\n",
        "\n",
        "# Decision Tree algorithm\n",
        "from sklearn.tree import DecisionTreeClassifier\n",
        "\n",
        "# K-nearest-neibours\n",
        "from sklearn.neighbors import KNeighborsClassifier"
      ],
      "metadata": {
        "id": "QQbxYC2hJSZA"
      },
      "execution_count": null,
      "outputs": []
    },
    {
      "cell_type": "code",
      "source": [
        "iris_database = pd.read_csv('drive/MyDrive/iris_database.csv').drop(iris_database.columns[0], axis =1)\n"
      ],
      "metadata": {
        "id": "xvtpl-BBLVBb"
      },
      "execution_count": null,
      "outputs": []
    },
    {
      "cell_type": "code",
      "source": [
        "print('Rótulos desejados', iris_database['species'].unique())\n",
        "fig = px.scatter(iris_database, x='sepal_width', y='sepal_length', color='species')"
      ],
      "metadata": {
        "id": "x2CC-bu2OboI"
      },
      "execution_count": null,
      "outputs": []
    },
    {
      "cell_type": "code",
      "source": [
        "x = iris_database.drop('species', axis=1)\n",
        "y = iris_database['species']\n",
        "x_train, x_test, y_train, y_test = train_test_split(x, y, test_size=0.2, random_state=0)\n",
        "\n",
        "# Naive-bayes algorithm\n",
        "DTrees = DecisionTreeClassifier(criterion='gini')\n",
        "DTrees.fit(x_train, y_train)\n",
        "\n",
        "# KNN\n",
        "knn = KNeighborsClassifier()\n",
        "knn.fit(x_train,y_train)\n"
      ],
      "metadata": {
        "id": "01gl2oqzPeR4"
      },
      "execution_count": null,
      "outputs": []
    },
    {
      "cell_type": "code",
      "source": [
        "predictions = DTrees.predict(x_test)\n",
        "accuracy = accuracy_score(y_test, predictions)\n",
        "print(\"Prediction:{} \\n The accuracy was: {}\" .format(predictions, accuracy))"
      ],
      "metadata": {
        "id": "ypOVxhFQUI1j"
      },
      "execution_count": null,
      "outputs": []
    }
  ]
}